{
 "cells": [
  {
   "cell_type": "markdown",
   "id": "weekly-cornwall",
   "metadata": {},
   "source": [
    "# Python Basic\n",
    "1. Correct indentation and strings\n",
    "- strings are used for storing and representon"
   ]
  },
  {
   "cell_type": "code",
   "execution_count": 4,
   "id": "golden-rugby",
   "metadata": {},
   "outputs": [
    {
     "name": "stdout",
     "output_type": "stream",
     "text": [
      "This Kooc is an excellent course\n",
      "Course name \n",
      "is Practical Python\n",
      "Those who don't take this Kooc would regret their decisions\n"
     ]
    }
   ],
   "source": [
    "print('This Kooc is an excellent course')\n",
    "print(\"Course name \\nis Practical Python\") # 탈출문자\n",
    "print(\"Those who don't take this Kooc would regret their decisions\")"
   ]
  },
  {
   "cell_type": "markdown",
   "id": "beginning-launch",
   "metadata": {},
   "source": [
    "__2. Integer, floats and decimals: using Python as a calculator__\n",
    "- variable names are identifiers, so thet follow the rules of identifier.\n",
    "- variables store values such as strings, numbers and other data types.\n",
    "- Use a hash, #, to write memos in a line."
   ]
  }
 ],
 "metadata": {
  "kernelspec": {
   "display_name": "Python 3",
   "language": "python",
   "name": "python3"
  },
  "language_info": {
   "codemirror_mode": {
    "name": "ipython",
    "version": 3
   },
   "file_extension": ".py",
   "mimetype": "text/x-python",
   "name": "python",
   "nbconvert_exporter": "python",
   "pygments_lexer": "ipython3",
   "version": "3.8.8"
  }
 },
 "nbformat": 4,
 "nbformat_minor": 5
}
