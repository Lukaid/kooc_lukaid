{
 "cells": [
  {
   "cell_type": "markdown",
   "metadata": {},
   "source": [
    "## Python: Numpy\n",
    "- Python의 dynamically typed programming특성상 변수는 value와 type을 모두 저장하여 용량이 크고 시간이 오래 걸림\n",
    "- 이러한 단점을 극복하기 위해 Numpy가 개발 됨, Numpy의 array는 list보다 100배 가량 빠름\n",
    "- 따라서 Numpy의 array는 같은 type의 데이터만 저장함"
   ]
  },
  {
   "cell_type": "markdown",
   "metadata": {},
   "source": [
    "### 그럼 TensowFlow는 왜 필요함?\n",
    "- TensorFlow는 연산과정을 그래프화하여 시각화 할 수 있다.\n",
    "- 모든 계산과정의 설계도를 짬 (Computational Graph)\n",
    "- 이 위에 데이터만 입력하면 됨력하면 됨\n",
    "- 최적화 (최대화 , 최소화) Gradiant계산이 용이, 값의 변화과정을 시각화하여 관찰할 수 있다는 장점이 있음"
   ]
  },
  {
   "cell_type": "markdown",
   "metadata": {},
   "source": [
    "### Pandas는 왜 필요함?\n",
    "- Panel Data\n",
    "- 다양한 데이터 처리에 용이이터 처리에 용이, missing data가 있는 data set도 쉽게 다룰 수 있음"
   ]
  },
  {
   "cell_type": "code",
   "execution_count": 1,
   "metadata": {},
   "outputs": [],
   "source": [
    "import numpy as np"
   ]
  },
  {
   "cell_type": "code",
   "execution_count": 10,
   "metadata": {},
   "outputs": [
    {
     "output_type": "stream",
     "name": "stdout",
     "text": [
      "[ 7  8  9 10 11]\nobject type: <class 'numpy.ndarray'> \n   data type: int32 \n       shape: (5,) \n   dimension: 1 \n  array size: 5\n(1, 5)\n"
     ]
    }
   ],
   "source": [
    "a = np.array([7, 8, 9, 10, 11])\n",
    "print(f'{a}\\n{\"object type:\":>12} {type(a)} \\n {\"data type:\":>12} {a.dtype} \\n {\"shape:\":>12} {a.shape} \\n {\"dimension:\":>12} {a.ndim} \\n {\"array size:\":>12} {a.size}')\n",
    "a1 = np.array([a])\n",
    "print(a1.shape)"
   ]
  }
 ],
 "metadata": {
  "kernelspec": {
   "display_name": "kooc_lukaid",
   "language": "python",
   "name": "kooc_lukaid"
  },
  "language_info": {
   "name": "",
   "version": "3.8.8-final"
  }
 },
 "nbformat": 4,
 "nbformat_minor": 4
}