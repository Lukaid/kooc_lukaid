{
 "cells": [
  {
   "cell_type": "markdown",
   "metadata": {},
   "source": [
    "## 1. Python: Numpy\n",
    "- Python의 dynamically typed programming특성상 변수는 value와 type을 모두 저장하여 용량이 크고 시간이 오래 걸림\n",
    "- 이러한 단점을 극복하기 위해 Numpy가 개발 됨, Numpy의 array는 list보다 100배 가량 빠름\n",
    "- 따라서 Numpy의 array는 같은 type의 데이터만 저장함"
   ]
  },
  {
   "cell_type": "markdown",
   "metadata": {},
   "source": [
    "### 그럼 TensowFlow는 왜 필요함?\n",
    "- TensorFlow는 연산과정을 그래프화하여 시각화 할 수 있다.\n",
    "- 모든 계산과정의 설계도를 짬 (Computational Graph)\n",
    "- 이 위에 데이터만 입력하면 됨력하면 됨\n",
    "- 최적화 (최대화 , 최소화) Gradiant계산이 용이, 값의 변화과정을 시각화하여 관찰할 수 있다는 장점이 있음"
   ]
  },
  {
   "cell_type": "markdown",
   "metadata": {},
   "source": [
    "### Pandas는 왜 필요함?\n",
    "- Panel Data\n",
    "- 다양한 데이터 처리에 용이이터 처리에 용이, missing data가 있는 data set도 쉽게 다룰 수 있음"
   ]
  },
  {
   "cell_type": "code",
   "execution_count": 1,
   "metadata": {},
   "outputs": [],
   "source": [
    "import numpy as np"
   ]
  },
  {
   "cell_type": "code",
   "execution_count": 13,
   "metadata": {},
   "outputs": [
    {
     "output_type": "stream",
     "name": "stdout",
     "text": [
      "[ 7  8  9 10 11]\nobject type: <class 'numpy.ndarray'> \n  data type: int32 \n      shape: (5,) \n  dimension: 1 \n array size: 5\n(1, 5)\n[[ 7  8  9 10 11]]\n"
     ]
    }
   ],
   "source": [
    "a = np.array([7, 8, 9, 10, 11])\n",
    "print(f'{a}\\n{\"object type:\":>12} {type(a)} \\n{\"data type:\":>12} {a.dtype} \\n{\"shape:\":>12} {a.shape} \\n{\"dimension:\":>12} {a.ndim} \\n{\"array size:\":>12} {a.size}')\n",
    "a1 = np.array([a])\n",
    "print(a1.shape)\n",
    "print(a1)"
   ]
  },
  {
   "source": [
    "### list는\n",
    "1. comma (,)로 element가 구분됨\n",
    "2. 다른 type의 element가 각각 다른 공간을 차지함\n",
    "\n",
    "### array는\n",
    "1. blank ()로 구분됨\n",
    "2. 같은 type의 element가 각각 같은 공간을 차지함 (가장 큰 숫자가 차지하는 데이터의 크기로 통일)"
   ],
   "cell_type": "markdown",
   "metadata": {}
  },
  {
   "cell_type": "code",
   "execution_count": 14,
   "metadata": {},
   "outputs": [
    {
     "output_type": "stream",
     "name": "stdout",
     "text": [
      "[[ 1.   2.   3.   4.   5. ]\n [ 8.   9.  10.  11.  12.2]]\nobject type: <class 'numpy.ndarray'> \n  data type: float64 \n      shape: (2, 5) \n  dimension: 2 \n array size: 10\n(1, 2, 5)\n[[[ 1.   2.   3.   4.   5. ]\n  [ 8.   9.  10.  11.  12.2]]]\n"
     ]
    }
   ],
   "source": [
    "b = np.array([[1.0, 2, 3, 4, 5], [8, 9, 10, 11, 12.2]])\n",
    "print(f'{b}\\n{\"object type:\":>12} {type(b)} \\n{\"data type:\":>12} {b.dtype} \\n{\"shape:\":>12} {b.shape} \\n{\"dimension:\":>12} {b.ndim} \\n{\"array size:\":>12} {b.size}')\n",
    "b1 = np.array([b])\n",
    "print(b1.shape)\n",
    "print(b1)"
   ]
  },
  {
   "cell_type": "code",
   "execution_count": 14,
   "metadata": {},
   "outputs": [
    {
     "output_type": "stream",
     "name": "stdout",
     "text": [
      "[[[ 1  2  3  4  5]\n  [ 8  9 10 11 12]]\n\n [[ 4  5  6  7  8]\n  [10 11 12 13 14]]]\nobject type: <class 'numpy.ndarray'> \n  data type: int32 \n      shape: (2, 2, 5) \n  dimension: 3 \n array size: 20\n(1, 2, 2, 5)\n[[[[ 1  2  3  4  5]\n   [ 8  9 10 11 12]]\n\n  [[ 4  5  6  7  8]\n   [10 11 12 13 14]]]]\n"
     ]
    }
   ],
   "source": [
    "c = np.array([[[1, 2, 3, 4, 5], [8, 9, 10, 11, 12]], [[4, 5, 6, 7, 8], [10, 11, 12, 13, 14]]])\n",
    "print(f'{c}\\n{\"object type:\":>12} {type(c)} \\n{\"data type:\":>12} {c.dtype} \\n{\"shape:\":>12} {c.shape} \\n{\"dimension:\":>12} {c.ndim} \\n{\"array size:\":>12} {c.size}')\n",
    "c1 = np.array([c])\n",
    "print(c1.shape)\n",
    "print(c1)"
   ]
  },
  {
   "cell_type": "code",
   "execution_count": 16,
   "metadata": {},
   "outputs": [
    {
     "output_type": "stream",
     "name": "stdout",
     "text": [
      "[[[ 1  2  3  4  5]\n  [ 8  9 10 11 12]]]\nobject type: <class 'numpy.ndarray'> \n  data type: int32 \n      shape: (1, 2, 5) \n  dimension: 3 \n array size: 10\n(1, 2, 5)\n[[[ 1  2  3  4  5]\n  [ 8  9 10 11 12]]]\n"
     ]
    }
   ],
   "source": [
    "ac1 = np.array([[[1, 2, 3, 4, 5], [8, 9, 10, 11, 12]]])\n",
    "print(f'{ac1}\\n{\"object type:\":>12} {type(ac1)} \\n{\"data type:\":>12} {ac1.dtype} \\n{\"shape:\":>12} {ac1.shape} \\n{\"dimension:\":>12} {ac1.ndim} \\n{\"array size:\":>12} {ac1.size}')\n",
    "print(ac1.shape)\n",
    "print(ac1)"
   ]
  },
  {
   "cell_type": "code",
   "execution_count": 17,
   "metadata": {},
   "outputs": [
    {
     "output_type": "stream",
     "name": "stdout",
     "text": [
      "[[[1 2 3 4 5]]]\nobject type: <class 'numpy.ndarray'> \n  data type: int32 \n      shape: (1, 1, 5) \n  dimension: 3 \n array size: 5\n(1, 1, 5)\n[[[1 2 3 4 5]]]\n"
     ]
    }
   ],
   "source": [
    "ac2 = np.array([[[1, 2, 3, 4, 5]]])\n",
    "print(f'{ac2}\\n{\"object type:\":>12} {type(ac2)} \\n{\"data type:\":>12} {ac2.dtype} \\n{\"shape:\":>12} {ac2.shape} \\n{\"dimension:\":>12} {ac2.ndim} \\n{\"array size:\":>12} {ac2.size}')\n",
    "print(ac2.shape)\n",
    "print(ac2)"
   ]
  },
  {
   "source": [
    "## 2. Numpy: special arrays and indexing\n",
    "\n",
    "- filling arrays with specific values: all type = float64 except for 'full'"
   ],
   "cell_type": "markdown",
   "metadata": {}
  },
  {
   "cell_type": "code",
   "execution_count": 8,
   "metadata": {},
   "outputs": [
    {
     "output_type": "stream",
     "name": "stdout",
     "text": [
      "[[0. 0. 0.]\n [0. 0. 0.]]\n[[1 1 1 1]\n [1 1 1 1]]\n[[7 7 7 7 7]\n [7 7 7 7 7]]\n[[1. 0. 0.]\n [0. 1. 0.]\n [0. 0. 1.]]\n"
     ]
    }
   ],
   "source": [
    "a_zeros = np.zeros((2, 3))\n",
    "print(a_zeros)\n",
    "a_ones = np.ones((2, 4), dtype = int)\n",
    "print(a_ones)\n",
    "a_full = np.full((2, 5), 7)\n",
    "print(a_full)\n",
    "print(np.eye(3)) # identity matrix"
   ]
  },
  {
   "cell_type": "code",
   "execution_count": 12,
   "metadata": {},
   "outputs": [
    {
     "output_type": "stream",
     "name": "stdout",
     "text": [
      "[[[0.74599555 0.20250158 0.44100925 0.31632154]\n  [0.57506755 0.04078832 0.39623542 0.39850111]\n  [0.41176533 0.20604485 0.14687682 0.04754668]]\n\n [[0.80919247 0.6732917  0.36211623 0.57454004]\n  [0.89516632 0.65096532 0.82636269 0.49358314]\n  [0.71834392 0.83235902 0.59113364 0.58827024]]] \n\n float64\n"
     ]
    }
   ],
   "source": [
    "# filling an array with random flaots: in the half-open interval [0.0, 1.0)\n",
    "a_ran = np.random.random((2, 3, 4))\n",
    "print(f'{a_ran} \\n\\n {a_ran.dtype}')"
   ]
  },
  {
   "cell_type": "code",
   "execution_count": 24,
   "metadata": {},
   "outputs": [
    {
     "output_type": "stream",
     "name": "stdout",
     "text": [
      "[[[ 1  2  3  4  5]\n  [ 8  9 10 11 12]]\n\n [[ 4  5  6  7  8]\n  [10 11 12 13 14]]]\n8\n8\n\n5\n5\n"
     ]
    }
   ],
   "source": [
    "# array indexing\n",
    "print(c)\n",
    "print(c[1, 0, 4])\n",
    "print(c[1][0][4])\n",
    "print()\n",
    "print(c[0, 0, 4])\n",
    "print(c[0][0][4])\n"
   ]
  },
  {
   "source": [
    "## 3. NumPy: flattening and making arrays with arange function\n",
    "\n",
    "- flattening은 다차원 배열을 1차원 배열로 바꾸는 것\n",
    "\n",
    "### 복습\n",
    "- list 는 모든 element가 comma & space로 구분되어 있고, np.array는 space로 구분되어있다."
   ],
   "cell_type": "markdown",
   "metadata": {}
  },
  {
   "cell_type": "code",
   "execution_count": 40,
   "metadata": {},
   "outputs": [
    {
     "output_type": "stream",
     "name": "stdout",
     "text": [
      "[[[ 1  2  3  4  5]\n  [ 8  9 10 11 12]]\n\n [[ 4  5  6  7  8]\n  [10 11 12 13 14]]]\n\n[1, 2, 3, 4, 5, 8, 9, 10, 11, 12, 4, 5, 6, 7, 8, 10, 11, 12, 13, 14]\n\n\n[ 1  2  3  4  5  8  9 10 11 12  4  5  6  7  8 10 11 12 13 14]\n\n[ 1  2  3  4  5  8  9 10 11 12  4  5  6  7  8 10 11 12 13 14]\n"
     ]
    }
   ],
   "source": [
    "# flattening\n",
    "print(c)\n",
    "print()\n",
    "l = []\n",
    "for i in c:\n",
    "    for j in i:\n",
    "        for k in j:\n",
    "            l.append(k)\n",
    "print(f'{l}\\n\\n\\n{np.array(l)}\\n')\n",
    "\n",
    "\n",
    "# flattening \n",
    "print(np.array(c.flat))"
   ]
  },
  {
   "source": [
    "### list 에서는 range, array 에서는 arange를 쓴다. (arange = array range)"
   ],
   "cell_type": "markdown",
   "metadata": {}
  },
  {
   "cell_type": "code",
   "execution_count": 48,
   "metadata": {},
   "outputs": [
    {
     "output_type": "stream",
     "name": "stdout",
     "text": [
      "[ 0  1  2  3  4  5  6  7  8  9 10 11 12 13 14 15 16 17 18 19 20]\n<class 'numpy.ndarray'>\n[[[ 0  1  2  3  4  5  6]\n  [ 7  8  9 10 11 12 13]\n  [14 15 16 17 18 19 20]]]\n\n[ 5  7  9 11 13 15 17 19]\n[[ 1  2  3  4  5  6  7  8  9 10]\n [11 12 13 14 15 16 17 18 19 20]]\n[0.  0.1 0.2 0.3 0.4 0.5 0.6 0.7 0.8 0.9 1. ]\n(11,)\n11\n"
     ]
    }
   ],
   "source": [
    "# making an array with arange with a same interval\n",
    "g = np.arange(21)\n",
    "print(f'{g}\\n{type(g)}')\n",
    "print(g.reshape(1, 3, 7))\n",
    "\n",
    "print()\n",
    "\n",
    "h = np.arange(5, 21, 2) # 5 이상 21 미만 2 간격으로\n",
    "print(h)\n",
    "print(np.arange(1, 21).reshape(2, 10))\n",
    "\n",
    "# creating an array of equal space within a range\n",
    "a_ss = np.linspace(0, 1, 11) # 보통 x축 찍을 때 , 구간 내에서 동일한 간격으로 array만들어 줌\n",
    "print(f'{a_ss}\\n{a_ss.shape}\\n{a_ss.size}')"
   ]
  },
  {
   "source": [
    "## 4. NumPy: Array operations\n",
    "- operations on all elements of arrays"
   ],
   "cell_type": "markdown",
   "metadata": {}
  },
  {
   "cell_type": "code",
   "execution_count": 62,
   "metadata": {},
   "outputs": [
    {
     "output_type": "stream",
     "name": "stdout",
     "text": [
      "[[1 2]\n [3 4]\n [5 6]]\n\n[[3 4]\n [5 6]\n [7 8]]\n\n(3, 2) (3, 2)\n\n[[ 4  6]\n [ 8 10]\n [12 14]]\n\n[[ 2  4]\n [ 6  8]\n [10 12]]\n\n[[ 3  8]\n [15 24]\n [35 48]]\n"
     ]
    }
   ],
   "source": [
    "# element-wise operations -- 원소별 연산\n",
    "# dimension이 일치하는 matrix를 dotproduct\n",
    "xa = np.array([[1, 2],[3, 4],[5, 6]])\n",
    "xb = np.array([[3, 4],[5, 6],[7, 8]])\n",
    "\n",
    "print(xa)\n",
    "print()\n",
    "print(xb)\n",
    "print()\n",
    "print(xa.shape, xb.shape)\n",
    "print()\n",
    "print(f'{xa+xb}\\n\\n{xa*2}')\n",
    "print()\n",
    "print(xa*xb)"
   ]
  },
  {
   "cell_type": "code",
   "execution_count": 64,
   "metadata": {},
   "outputs": [
    {
     "output_type": "stream",
     "name": "stdout",
     "text": [
      "[[ 4  6]\n [ 8 10]\n [12 14]]\n\n[[-2 -2]\n [-2 -2]\n [-2 -2]]\n\n[[ 3  8]\n [15 24]\n [35 48]]\n\n[[1.         1.41421356]\n [1.73205081 2.        ]\n [2.23606798 2.44948974]]\n"
     ]
    }
   ],
   "source": [
    "# element-wise operations -- 원소별 연산\n",
    "print(np.add(xa, xb))\n",
    "print()\n",
    "print(np.subtract(xa, xb))\n",
    "print()\n",
    "print(np.multiply(xa, xb))\n",
    "print()\n",
    "print(np.sqrt(xa))"
   ]
  },
  {
   "source": [
    "- inner product\n",
    "- 행렬의 inner product 연산의 경우 두 행렬의 정합성이 맞아야 한다. "
   ],
   "cell_type": "markdown",
   "metadata": {}
  },
  {
   "cell_type": "code",
   "execution_count": 73,
   "metadata": {},
   "outputs": [
    {
     "output_type": "stream",
     "name": "stdout",
     "text": [
      "[[1.]\n [1.]]\n\n(2, 1) 2\n\n[[ 3.]\n [ 7.]\n [11.]]\n[[ 7.]\n [11.]\n [15.]]\n"
     ]
    }
   ],
   "source": [
    "# inner product of matrix\n",
    "xc = np.ones((2, 1))\n",
    "print(xc) ; print()\n",
    "print(xc.shape, xc.ndim) ; print()\n",
    "print(xa.dot(xc)) # dot() as a method\n",
    "print(np.dot(xb, xc))"
   ]
  },
  {
   "cell_type": "code",
   "execution_count": 68,
   "metadata": {},
   "outputs": [
    {
     "output_type": "stream",
     "name": "stdout",
     "text": [
      "[[1 2]\n [1 2]]\n\n[[ 3  6]\n [ 7 14]\n [11 22]]\n[[ 7 14]\n [11 22]\n [15 30]]\n"
     ]
    }
   ],
   "source": [
    "# inner product of matrix\n",
    "xd = np.array([[1, 2],[1, 2]]) ; print(xd)\n",
    "print()\n",
    "print(np.dot(xa, xd)) ; print(np.dot(xb, xd))"
   ]
  },
  {
   "cell_type": "code",
   "execution_count": 77,
   "metadata": {},
   "outputs": [
    {
     "output_type": "stream",
     "name": "stdout",
     "text": [
      "[[1 3 5]\n [2 4 6]]\n[[ 6  7]\n [ 8  9]\n [10 11]]\n[[3 4]\n [5 6]\n [7 8]]\n[[ 6  7]\n [ 8  9]\n [10 11]]\n"
     ]
    }
   ],
   "source": [
    "# transposing\n",
    "print(xa.T)\n",
    "print(xb + 3)\n",
    "print(xb)\n",
    "xb += 3\n",
    "print(xb)"
   ]
  },
  {
   "source": [
    "## 5. NumPy: Broadcating\n",
    "- Arithmetic operation between difference shaped arrays\n",
    "- Broadcating rule이 적용되면 차원이 다른 matrix간의 연산이 가능해진다.\n",
    "- \n"
   ],
   "cell_type": "markdown",
   "metadata": {}
  },
  {
   "cell_type": "code",
   "execution_count": 85,
   "metadata": {},
   "outputs": [
    {
     "output_type": "stream",
     "name": "stdout",
     "text": [
      "[[1 2 3]\n [4 5 6]\n [7 8 9]]\n[[1.]\n [1.]\n [1.]]\n[[ 2.  3.  4.]\n [ 5.  6.  7.]\n [ 8.  9. 10.]]\n[[2 2 2]]\n[[ 3  4  5]\n [ 6  7  8]\n [ 9 10 11]]\n"
     ]
    }
   ],
   "source": [
    "ya = np.arange(1, 10).reshape(3, 3); print(ya)\n",
    "yv1 = np.ones((3, 1)); print(yv1)\n",
    "\n",
    "yb = ya + yv1 ; print(yb)\n",
    "\n",
    "yv2 = np.full((1, 3), 2) ; print(yv2)\n",
    "\n",
    "yc = ya + yv2; print(yc)"
   ]
  }
 ],
 "metadata": {
  "kernelspec": {
   "display_name": "kooc_lukaid",
   "language": "python",
   "name": "kooc_lukaid"
  },
  "language_info": {
   "name": "",
   "version": "3.8.8-final"
  }
 },
 "nbformat": 4,
 "nbformat_minor": 4
}