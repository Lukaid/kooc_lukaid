{
 "cells": [
  {
   "cell_type": "markdown",
   "metadata": {},
   "source": [
    "## 1. Python: Numpy\n",
    "- Python의 dynamically typed programming특성상 변수는 value와 type을 모두 저장하여 용량이 크고 시간이 오래 걸림\n",
    "- 이러한 단점을 극복하기 위해 Numpy가 개발 됨, Numpy의 array는 list보다 100배 가량 빠름\n",
    "- 따라서 Numpy의 array는 같은 type의 데이터만 저장함"
   ]
  },
  {
   "cell_type": "markdown",
   "metadata": {},
   "source": [
    "### 그럼 TensowFlow는 왜 필요함?\n",
    "- TensorFlow는 연산과정을 그래프화하여 시각화 할 수 있다.\n",
    "- 모든 계산과정의 설계도를 짬 (Computational Graph)\n",
    "- 이 위에 데이터만 입력하면 됨력하면 됨\n",
    "- 최적화 (최대화 , 최소화) Gradiant계산이 용이, 값의 변화과정을 시각화하여 관찰할 수 있다는 장점이 있음"
   ]
  },
  {
   "cell_type": "markdown",
   "metadata": {},
   "source": [
    "### Pandas는 왜 필요함?\n",
    "- Panel Data\n",
    "- 다양한 데이터 처리에 용이이터 처리에 용이, missing data가 있는 data set도 쉽게 다룰 수 있음"
   ]
  },
  {
   "cell_type": "code",
   "execution_count": 2,
   "metadata": {},
   "outputs": [],
   "source": [
    "import numpy as np"
   ]
  },
  {
   "cell_type": "code",
   "execution_count": 13,
   "metadata": {},
   "outputs": [
    {
     "output_type": "stream",
     "name": "stdout",
     "text": [
      "[ 7  8  9 10 11]\nobject type: <class 'numpy.ndarray'> \n  data type: int32 \n      shape: (5,) \n  dimension: 1 \n array size: 5\n(1, 5)\n[[ 7  8  9 10 11]]\n"
     ]
    }
   ],
   "source": [
    "a = np.array([7, 8, 9, 10, 11])\n",
    "print(f'{a}\\n{\"object type:\":>12} {type(a)} \\n{\"data type:\":>12} {a.dtype} \\n{\"shape:\":>12} {a.shape} \\n{\"dimension:\":>12} {a.ndim} \\n{\"array size:\":>12} {a.size}')\n",
    "a1 = np.array([a])\n",
    "print(a1.shape)\n",
    "print(a1)"
   ]
  },
  {
   "source": [
    "### list는\n",
    "1. comma (,)로 element가 구분됨\n",
    "2. 다른 type의 element가 각각 다른 공간을 차지함\n",
    "\n",
    "### array는\n",
    "1. blank ()로 구분됨\n",
    "2. 같은 type의 element가 각각 같은 공간을 차지함 (가장 큰 숫자가 차지하는 데이터의 크기로 통일)"
   ],
   "cell_type": "markdown",
   "metadata": {}
  },
  {
   "cell_type": "code",
   "execution_count": 14,
   "metadata": {},
   "outputs": [
    {
     "output_type": "stream",
     "name": "stdout",
     "text": [
      "[[ 1.   2.   3.   4.   5. ]\n [ 8.   9.  10.  11.  12.2]]\nobject type: <class 'numpy.ndarray'> \n  data type: float64 \n      shape: (2, 5) \n  dimension: 2 \n array size: 10\n(1, 2, 5)\n[[[ 1.   2.   3.   4.   5. ]\n  [ 8.   9.  10.  11.  12.2]]]\n"
     ]
    }
   ],
   "source": [
    "b = np.array([[1.0, 2, 3, 4, 5], [8, 9, 10, 11, 12.2]])\n",
    "print(f'{b}\\n{\"object type:\":>12} {type(b)} \\n{\"data type:\":>12} {b.dtype} \\n{\"shape:\":>12} {b.shape} \\n{\"dimension:\":>12} {b.ndim} \\n{\"array size:\":>12} {b.size}')\n",
    "b1 = np.array([b])\n",
    "print(b1.shape)\n",
    "print(b1)"
   ]
  },
  {
   "cell_type": "code",
   "execution_count": 15,
   "metadata": {},
   "outputs": [
    {
     "output_type": "stream",
     "name": "stdout",
     "text": [
      "[[[ 1  2  3  4  5]\n  [ 8  9 10 11 12]]\n\n [[ 4  5  6  7  8]\n  [10 11 12 13 14]]]\nobject type: <class 'numpy.ndarray'> \n  data type: int32 \n      shape: (2, 2, 5) \n  dimension: 3 \n array size: 20\n(1, 2, 2, 5)\n[[[[ 1  2  3  4  5]\n   [ 8  9 10 11 12]]\n\n  [[ 4  5  6  7  8]\n   [10 11 12 13 14]]]]\n"
     ]
    }
   ],
   "source": [
    "c = np.array([[[1, 2, 3, 4, 5], [8, 9, 10, 11, 12]], [[4, 5, 6, 7, 8], [10, 11, 12, 13, 14]]])\n",
    "print(f'{c}\\n{\"object type:\":>12} {type(c)} \\n{\"data type:\":>12} {c.dtype} \\n{\"shape:\":>12} {c.shape} \\n{\"dimension:\":>12} {c.ndim} \\n{\"array size:\":>12} {c.size}')\n",
    "c1 = np.array([c])\n",
    "print(c1.shape)\n",
    "print(c1)"
   ]
  },
  {
   "cell_type": "code",
   "execution_count": 16,
   "metadata": {},
   "outputs": [
    {
     "output_type": "stream",
     "name": "stdout",
     "text": [
      "[[[ 1  2  3  4  5]\n  [ 8  9 10 11 12]]]\nobject type: <class 'numpy.ndarray'> \n  data type: int32 \n      shape: (1, 2, 5) \n  dimension: 3 \n array size: 10\n(1, 2, 5)\n[[[ 1  2  3  4  5]\n  [ 8  9 10 11 12]]]\n"
     ]
    }
   ],
   "source": [
    "ac1 = np.array([[[1, 2, 3, 4, 5], [8, 9, 10, 11, 12]]])\n",
    "print(f'{ac1}\\n{\"object type:\":>12} {type(ac1)} \\n{\"data type:\":>12} {ac1.dtype} \\n{\"shape:\":>12} {ac1.shape} \\n{\"dimension:\":>12} {ac1.ndim} \\n{\"array size:\":>12} {ac1.size}')\n",
    "print(ac1.shape)\n",
    "print(ac1)"
   ]
  },
  {
   "cell_type": "code",
   "execution_count": 17,
   "metadata": {},
   "outputs": [
    {
     "output_type": "stream",
     "name": "stdout",
     "text": [
      "[[[1 2 3 4 5]]]\nobject type: <class 'numpy.ndarray'> \n  data type: int32 \n      shape: (1, 1, 5) \n  dimension: 3 \n array size: 5\n(1, 1, 5)\n[[[1 2 3 4 5]]]\n"
     ]
    }
   ],
   "source": [
    "ac2 = np.array([[[1, 2, 3, 4, 5]]])\n",
    "print(f'{ac2}\\n{\"object type:\":>12} {type(ac2)} \\n{\"data type:\":>12} {ac2.dtype} \\n{\"shape:\":>12} {ac2.shape} \\n{\"dimension:\":>12} {ac2.ndim} \\n{\"array size:\":>12} {ac2.size}')\n",
    "print(ac2.shape)\n",
    "print(ac2)"
   ]
  },
  {
   "source": [
    "## 2. Numpy: special arrays and indexing"
   ],
   "cell_type": "markdown",
   "metadata": {}
  },
  {
   "cell_type": "code",
   "execution_count": null,
   "metadata": {},
   "outputs": [],
   "source": []
  }
 ],
 "metadata": {
  "kernelspec": {
   "display_name": "kooc_lukaid",
   "language": "python",
   "name": "kooc_lukaid"
  },
  "language_info": {
   "name": "",
   "version": "3.8.8-final"
  }
 },
 "nbformat": 4,
 "nbformat_minor": 4
}